{
 "cells": [
  {
   "cell_type": "markdown",
   "id": "6aecc645",
   "metadata": {},
   "source": [
    "# Implementing back propogation"
   ]
  },
  {
   "cell_type": "code",
   "execution_count": 10,
   "id": "2490c810",
   "metadata": {},
   "outputs": [],
   "source": [
    "import numpy as np\n",
    "import PIL\n",
    "from numpy import asarray\n",
    "from PIL  import Image\n",
    "import math\n",
    "import matplotlib.pyplot as plt\n",
    "import os\n",
    "import nltk\n",
    "from nltk.corpus import stopwords\n",
    "from tqdm.notebook import tqdm\n",
    "from sklearn.decomposition import SparsePCA\n",
    "from sklearn.decomposition import PCA\n",
    "import random\n",
    "from sklearn.feature_extraction.text import TfidfVectorizer\n",
    "import ntpath\n",
    "import sys\n",
    "from scipy.special import softmax"
   ]
  },
  {
   "cell_type": "code",
   "execution_count": 11,
   "id": "b1b43be9",
   "metadata": {},
   "outputs": [],
   "source": [
    "#Placing the input images into numpy array\n",
    "Data = []       \n",
    "happy_img = []\n",
    "sad_img = []\n",
    "N = 0\n",
    "n_happy = 0\n",
    "n_sad = 0\n",
    "directory = r\"C:\\Users\\Yashi Sahu\\Desktop\\mlsp4\\Data\\emotion_classification\\train\"\n",
    "for filename in os.scandir(directory):\n",
    "    if filename.is_file():\n",
    "        filename2 = directory + \"\\\\\" + ntpath.basename(filename)\n",
    "        img = Image.open(filename2).resize((100,100))\n",
    "        npImg = np.array(img)\n",
    "        flatArray = np.transpose(np.ravel(npImg))\n",
    "        x = ntpath.basename(filename).split(\".\")\n",
    "        if x[1] == \"happy\":\n",
    "            happy_img.append(list(flatArray))\n",
    "            n_happy += 1\n",
    "        else:\n",
    "            sad_img.append(list(flatArray))\n",
    "            n_sad += 1\n",
    "N = n_happy + n_sad\n",
    "happy_img = np.transpose(np.array(happy_img))\n",
    "sad_img = np.transpose(np.array(sad_img))\n",
    "train_X = np.concatenate((happy_img,sad_img),axis = 1)\n",
    "train_X=train_X/255"
   ]
  },
  {
   "cell_type": "code",
   "execution_count": 12,
   "id": "7eafba96",
   "metadata": {},
   "outputs": [],
   "source": [
    "test_happy = []\n",
    "test_sad = []\n",
    "test_n_happy=0\n",
    "test_n_sad=0\n",
    "n_test = 0\n",
    "directory = r\"C:\\Users\\Yashi Sahu\\Desktop\\mlsp4\\Data\\emotion_classification\\test\"\n",
    "for filename in os.scandir(directory):\n",
    "    if filename.is_file():\n",
    "        filename2 = directory + \"\\\\\" + ntpath.basename(filename)\n",
    "        img = Image.open(filename2).resize((100,100))\n",
    "        np_img = np.array(img)/1\n",
    "        flat_array = np.transpose(np.ravel(np_img))\n",
    "        x = ntpath.basename(filename).split(\".\")\n",
    "        if x[1] == \"happy\":\n",
    "            test_happy.append(list(flat_array))\n",
    "            test_n_happy+=1\n",
    "\n",
    "        else:\n",
    "            test_sad.append(list(flat_array))\n",
    "            test_n_sad+=1\n",
    "\n",
    "        n_test += 1\n",
    "test_happy = np.transpose(np.array(test_happy))\n",
    "test_sad = np.transpose(np.array(test_sad))\n",
    "test_X = np.concatenate((test_happy,test_sad),axis = 1)\n",
    "test_X=test_X/255"
   ]
  },
  {
   "cell_type": "code",
   "execution_count": 13,
   "id": "9d0127d5",
   "metadata": {},
   "outputs": [
    {
     "name": "stdout",
     "output_type": "stream",
     "text": [
      "(20,)\n",
      "(10,)\n",
      "(20, 2)\n",
      "(10, 2)\n",
      "[0.52156863 0.45098039 0.01176471 0.23529412 0.42745098 0.39215686\n",
      " 0.15686275 0.38039216 0.05098039 0.27843137 0.09803922 0.01960784\n",
      " 0.40784314 0.06666667 0.31372549 0.35294118 0.10196078 0.06666667\n",
      " 0.25490196 0.09019608]\n"
     ]
    }
   ],
   "source": [
    "hot_encoding_train=np.zeros((N,2))\n",
    "hot_encoding_test=np.zeros((n_test,2))\n",
    "train_Y=np.zeros(N)\n",
    "for i in range(0,N):\n",
    "    if i<9:\n",
    "        train_Y[i]=+1\n",
    "        hot_encoding_train[i][0]=1                      \n",
    "#         {happy,sad}\n",
    "        hot_encoding_train[i][1]=0\n",
    "    else:\n",
    "        train_Y[i]=0\n",
    "        hot_encoding_train[i][0]=0\n",
    "        hot_encoding_train[i][1]=1\n",
    "        \n",
    "test_Y=np.zeros(n_test)\n",
    "for i in range(0,n_test):\n",
    "    if i<6:\n",
    "        test_Y[i]=+1\n",
    "        hot_encoding_test[i][0]=1                      \n",
    "        hot_encoding_test[i][1]=0\n",
    "        \n",
    "    else:\n",
    "        test_Y[i]=0\n",
    "        hot_encoding_test[i][0]=0                     \n",
    "        hot_encoding_test[i][1]=1\n",
    "        \n",
    "print(train_Y.shape)\n",
    "print(test_Y.shape)\n",
    "print(hot_encoding_train.shape)\n",
    "print(hot_encoding_test.shape)\n",
    "print(train_X[0])"
   ]
  },
  {
   "cell_type": "code",
   "execution_count": 14,
   "id": "d529c25d",
   "metadata": {},
   "outputs": [],
   "source": [
    "# Reducing the dimension to K using PCA    \n",
    "def PCA_transform(K):\n",
    "    \n",
    "    temp = PCA(n_components = K)  \n",
    "    total_data=np.concatenate((train_X,test_X),axis=1)\n",
    "    reduced_data = temp.fit_transform(total_data.T)  \n",
    "    train_reduced_data=reduced_data[:N]\n",
    "    test_reduced_data=reduced_data[N:]\n",
    "    train_reduced_happy_img = train_reduced_data[:n_happy]\n",
    "    train_reduced_sad_img = train_reduced_data[n_happy:]\n",
    "    test_reduced_happy_img=test_reduced_data[:test_n_happy]\n",
    "    test_reduced_sad_img=test_reduced_data[test_n_happy:]\n",
    "\n",
    "    reduced_data = reduced_data.T\n",
    "    test_reduced_data=test_reduced_data.T\n",
    "    train_reduced_happy_img=train_reduced_happy_img.T\n",
    "    train_reduced_sad_img= train_reduced_sad_img.T\n",
    "    test_reduced_happy_img=test_reduced_happy_img.T\n",
    "    test_reduced_sad_img=test_reduced_sad_img.T\n",
    "    \n",
    "#     print(reduced_data.shape,train_reduced_data.shape,test_reduced_data.shape)\n",
    "    \n",
    "    return(reduced_data,train_reduced_data,test_reduced_data)\n"
   ]
  },
  {
   "cell_type": "code",
   "execution_count": 15,
   "id": "0c3dece9",
   "metadata": {},
   "outputs": [
    {
     "name": "stdout",
     "output_type": "stream",
     "text": [
      "(20, 12)\n"
     ]
    }
   ],
   "source": [
    "dim=12\n",
    "\n",
    "total_data_X,train_X,test_X=PCA_transform(dim)\n",
    "print(train_X.shape)"
   ]
  },
  {
   "cell_type": "code",
   "execution_count": 16,
   "id": "ade07ea0",
   "metadata": {},
   "outputs": [],
   "source": [
    "\n",
    "class neural_network:\n",
    "   \n",
    "    def  __init__(self,n_neurons):\n",
    "        self.learning_rate=0.0015\n",
    "        self.weight_hidden_layer=np.zeros((n_neurons,dim))\n",
    "        self.bias_hidden_layer=np.zeros((n_neurons,1))\n",
    "        self.weight_out_layer=np.zeros((2,n_neurons))\n",
    "        self.bias_out_layer=np.zeros((2,1))\n",
    "        self.n_neurons=n_neurons\n",
    "        for i in range(n_neurons):\n",
    "            for j in range(dim):\n",
    "                self.weight_hidden_layer[i][j]=random.uniform(0,0.5)\n",
    "                \n",
    "        for i in range(2):\n",
    "            for j in range(n_neurons):\n",
    "                self.weight_out_layer[i][j]=random.uniform(1.5,2.0)\n",
    "    def calculate_a1(self,x):\n",
    "        a_1=np.matmul(self.weight_hidden_layer,x)\n",
    "        add_bias=a_1+self.bias_hidden_layer\n",
    "        return add_bias\n",
    "    def Relu(self,a_1,size):\n",
    "        z_1=np.zeros((self.n_neurons,size))\n",
    "        for i in range(self.n_neurons):\n",
    "                for j in range(size):\n",
    "                    if a_1[i][j]<0:\n",
    "                        z_1[i][j]=0\n",
    "                    else:\n",
    "                        z_1[i][j]=a_1[i][j]\n",
    "        return z_1\n",
    "    def calculate_a2(self,z_1):\n",
    "        a_2=np.matmul(self.weight_out_layer,z_1)\n",
    "        add_bias=a_2+self.bias_out_layer\n",
    "        return add_bias\n",
    "    \n",
    "    def softmax(self,a_2):\n",
    "       \n",
    "          \n",
    "        \n",
    "          return softmax(a_2,axis=0)\n",
    "    def forward_pass(self,data,size): \n",
    "        \n",
    "        a_1=self.calculate_a1(data)\n",
    "      \n",
    "        z_1=self.Relu(a_1,size)\n",
    "        \n",
    "        a_2=self.calculate_a2(z_1)\n",
    "        \n",
    "        y=self.softmax(a_2)\n",
    "       \n",
    "      \n",
    "        output=np.zeros(size)\n",
    "       \n",
    "        for i in range(size): \n",
    "            if y[0][i]>y[1][i]:\n",
    "                output[i]=1\n",
    "            else:\n",
    "                output[i]=0\n",
    "        return (y,output,z_1,a_1)\n",
    "    def BCE(self,softmax_prob,true_label,size):\n",
    "        error=0\n",
    "        for i in range(size):\n",
    "            for j in range (2):\n",
    "                error=error+true_label[i][j]*math.log(softmax_prob[j][i]+0.0000001)\n",
    "                \n",
    "        return error\n",
    "        \n",
    "    def back_prop(self,Y,z_1,a_1,size):\n",
    "        \n",
    "        dL_a2=Y-hot_encoding_train.T\n",
    "        dL_w2=np.matmul(dL_a2,z_1.T)\n",
    "        \n",
    "        dL_b2=np.sum(dL_a2,axis=1).reshape((2,1))\n",
    "       \n",
    "        self.weight_out_layer=self.weight_out_layer-self.learning_rate*dL_w2\n",
    "        self.bias_out_layer=self.bias_out_layer-self.learning_rate*dL_b2\n",
    "        da2_z1=self.weight_out_layer\n",
    "        dz1_a1=np.zeros((self.n_neurons,size))\n",
    "        for i in range(self.n_neurons):\n",
    "            for j in range(N):\n",
    "                if(a_1[i][j]<=0):\n",
    "                    dz1_a1[i][j]=1\n",
    "                else:\n",
    "                    dz1_a1[i][j]=0\n",
    "                    \n",
    "                \n",
    "        da1_w1=train_X\n",
    "        \n",
    "        t2=np.zeros((self.n_neurons,size))\n",
    "        t1=np.matmul(da2_z1.T,dL_a2)\n",
    "        for i in range(self.n_neurons):\n",
    "            for j in range(size):\n",
    "                t2[i][j]=t1[i][j]*dz1_a1[i][j]\n",
    "        \n",
    "        \n",
    "        dL_w1=np.matmul(t2,da1_w1)\n",
    "        dL_b1=np.sum(t2,axis=1).reshape((self.n_neurons,1))\n",
    "        \n",
    "        self.weight_hidden_layer=self.weight_hidden_layer-self.learning_rate*dL_w1\n",
    "        self.bias_hidden_layer=self.bias_hidden_layer-self.learning_rate*dL_b1\n",
    "    \n",
    "        \n",
    "        \n",
    "        \n",
    "        \n",
    "        \n",
    "            \n",
    "  \n",
    "    def implem_NN(self):\n",
    "#         current_x=self.input_x\n",
    "        iter_n=20\n",
    "        error_array=np.zeros(iter_n)\n",
    "        for i in range(iter_n):\n",
    "            error=0\n",
    "            softmax_prob,pred_label,z_1,a_1=self.forward_pass(train_X.T,20)\n",
    "            \n",
    "            error_array[i]=-self.BCE(softmax_prob,hot_encoding_train,20)\n",
    "            \n",
    "            \n",
    "            self.back_prop(softmax_prob,z_1,a_1,20)\n",
    "            \n",
    "           \n",
    "        self.plot_train_error(error_array)    \n",
    "    def plot_train_error(self,error_array):\n",
    "        u = np.arange(start=1, stop=21, step=1)\n",
    "        plt.xlabel('Epoch number')\n",
    "        plt.ylabel('Loss Function')\n",
    "        plt.title('Loss function for Train data')\n",
    "        plt.plot(u,error_array)\n",
    "        plt.show()\n",
    "        \n",
    "               \n",
    "    def find_accuracy(self):\n",
    "        softmax_prob,pred_label,z_1,a_1=self.forward_pass(test_X,10)\n",
    "        correct=0\n",
    "        \n",
    "        for i in range(10):\n",
    "            if(pred_label[i]==test_Y[i]):\n",
    "                correct=correct+1\n",
    "        print((correct/10)*100)\n",
    "            \n",
    "        \n",
    "        \n",
    " \n",
    "        "
   ]
  },
  {
   "cell_type": "code",
   "execution_count": 18,
   "id": "a5172e9c",
   "metadata": {},
   "outputs": [
    {
     "data": {
      "image/png": "[encoded data removed]",
      "text/plain": [
       "<Figure size 432x288 with 1 Axes>"
      ]
     },
     "metadata": {
      "needs_background": "light"
     },
     "output_type": "display_data"
    },
    {
     "name": "stdout",
     "output_type": "stream",
     "text": [
      "80.0\n"
     ]
    }
   ],
   "source": [
    "obj=neural_network(10)\n",
    "obj.implem_NN()\n",
    "obj.find_accuracy()"
   ]
  },
  {
   "cell_type": "code",
   "execution_count": 19,
   "id": "6805dc82",
   "metadata": {},
   "outputs": [
    {
     "data": {
      "image/png": "[encoded data removed]",
      "text/plain": [
       "<Figure size 432x288 with 1 Axes>"
      ]
     },
     "metadata": {
      "needs_background": "light"
     },
     "output_type": "display_data"
    },
    {
     "name": "stdout",
     "output_type": "stream",
     "text": [
      "90.0\n"
     ]
    }
   ],
   "source": [
    "obj=neural_network(15)\n",
    "obj.implem_NN()\n",
    "obj.find_accuracy()"
   ]
  },
  {
   "cell_type": "markdown",
   "id": "77a61d79",
   "metadata": {},
   "source": [
    "we can see that the accuracy increases as we increase the neurons in hidden layer from 10 to 15 this is because the neural network becomes more accurate if we increase the number of neurons in hidden layer"
   ]
  }
 ],
 "metadata": {
  "kernelspec": {
   "display_name": "Python 3 (ipykernel)",
   "language": "python",
   "name": "python3"
  },
  "language_info": {
   "codemirror_mode": {
    "name": "ipython",
    "version": 3
   },
   "file_extension": ".py",
   "mimetype": "text/x-python",
   "name": "python",
   "nbconvert_exporter": "python",
   "pygments_lexer": "ipython3",
   "version": "3.10.0"
  }
 },
 "nbformat": 4,
 "nbformat_minor": 5
}
